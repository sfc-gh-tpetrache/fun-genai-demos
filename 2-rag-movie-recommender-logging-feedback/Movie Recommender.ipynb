{
 "metadata": {
  "kernelspec": {
   "display_name": "Streamlit Notebook",
   "name": "streamlit"
  }
 },
 "nbformat_minor": 5,
 "nbformat": 4,
 "cells": [
  {
   "cell_type": "code",
   "id": "3775908f-ca36-4846-8f38-5adca39217f2",
   "metadata": {
    "language": "python",
    "name": "Imports",
    "collapsed": false
   },
   "source": "# Import python packages\nimport streamlit as st\nimport pandas as pd\n\n# We can also use Snowpark for our analyses!\nfrom snowflake.snowpark.context import get_active_session\nfrom snowflake.snowpark.functions import parse_json, flatten, col,listagg\n\nsession = get_active_session()\n",
   "execution_count": null,
   "outputs": []
  },
  {
   "cell_type": "code",
   "id": "d1cd9519-0b33-4198-8254-465bd74842c4",
   "metadata": {
    "language": "python",
    "name": "Preview",
    "collapsed": false
   },
   "outputs": [],
   "source": "df_movies = session.table(\"MOVIES_METADATA\").filter(col(\"OVERVIEW\").is_not_null());\nprint(df_movies.count())\ndf_movies.show()",
   "execution_count": null
  },
  {
   "cell_type": "code",
   "id": "86254640-56ca-4423-82d0-01e2e13e0465",
   "metadata": {
    "language": "python",
    "name": "cell3",
    "collapsed": false
   },
   "outputs": [],
   "source": "df_movies.select(col(\"ORIGINAL_LANGUAGE\")).distinct().limit(10)",
   "execution_count": null
  },
  {
   "cell_type": "code",
   "id": "efc93773-79c7-47df-abf9-0e3b51776461",
   "metadata": {
    "language": "python",
    "name": "cell1",
    "collapsed": false
   },
   "outputs": [],
   "source": "df_movies.columns",
   "execution_count": null
  },
  {
   "cell_type": "code",
   "id": "b5f73e9c-eb18-45af-806d-802a31c4d0e7",
   "metadata": {
    "language": "python",
    "name": "List_genres",
    "collapsed": false
   },
   "outputs": [],
   "source": "df_genres_parsed = df_movies.select(col(\"ID\"),flatten(parse_json(col(\"GENRES\")))).select(\n    col(\"ID\"),col(\"VALUE\")[\"name\"].alias(\"genre_name\")\n).group_by(\"ID\").agg(\n    listagg(col(\"genre_name\"), \", \").as_(\"genre_list\"))\n\ndf_final = df_movies.join(df_genres_parsed, \"ID\").select(\n    df_movies[\"*\"],  # Select all columns from the initial DataFrame\n    col(\"genre_list\")  # Add the aggregated genre list\n)\ndf_final.show()",
   "execution_count": null
  },
  {
   "cell_type": "code",
   "id": "24d8f350-3944-4e1d-9a77-950b9f866102",
   "metadata": {
    "language": "python",
    "name": "Weighted_votes",
    "collapsed": false
   },
   "outputs": [],
   "source": "# Calculate weighted rate (IMDb formula)\n# weighted rating (WR) = (v ÷ (v+m)) × R + (m ÷ (v+m)) × C where: R = average for the movie (mean) = (Rating) v = number of votes for the movie = (votes) m = minimum votes required to be listed in the Top 250 (currently 25000)\ndf_final = df_final.with_column('WEIGHTED_RATE', df_final[\"VOTE_COUNT\"] / (df_final[\"VOTE_COUNT\"] + 10 ) * df_final[\"VOTE_AVERAGE\"] + (10 / (df_final[\"VOTE_COUNT\"] + 10)) * 5.0) ",
   "execution_count": null
  },
  {
   "cell_type": "code",
   "id": "d39b4c07-be03-4422-9c81-9d597a07ac18",
   "metadata": {
    "language": "python",
    "name": "cell2",
    "collapsed": false
   },
   "outputs": [],
   "source": "df_final.show()",
   "execution_count": null
  },
  {
   "cell_type": "code",
   "id": "4507a276-b4e2-4dd0-83a2-f2c879372651",
   "metadata": {
    "language": "python",
    "name": "most_popular",
    "collapsed": false
   },
   "outputs": [],
   "source": "df_final.order_by(col(\"WEIGHTED_RATE\").desc()).select(col(\"TITLE\"), col(\"GENRE_LIST\"), col(\"TAGLINE\"), col(\"IMDB_ID\"), col(\"ORIGINAL_LANGUAGE\"), col(\"VOTE_AVERAGE\")).limit(10)\n",
   "execution_count": null
  },
  {
   "cell_type": "code",
   "id": "faf82ae9-cf52-4d68-afdc-ec78db0d0bd6",
   "metadata": {
    "language": "python",
    "name": "Subset",
    "collapsed": false
   },
   "outputs": [],
   "source": "df_movies_set = df_final[[\"TITLE\",\"GENRE_LIST\", \"IMDB_ID\", \"OVERVIEW\", \"WEIGHTED_RATE\", \"ORIGINAL_LANGUAGE\"]]\ndf_movies_set.show()",
   "execution_count": null
  },
  {
   "cell_type": "code",
   "id": "bf2d5709-1420-48c2-b8fb-4449d9b665ed",
   "metadata": {
    "language": "python",
    "name": "write_results",
    "collapsed": false
   },
   "outputs": [],
   "source": "df_movies_set.write.mode(\"overwrite\").save_as_table(\"MOVIES_PROCESSED\")",
   "execution_count": null
  },
  {
   "cell_type": "code",
   "id": "fa22db9c-7ac9-4f33-9ad6-c24fcde666fe",
   "metadata": {
    "language": "sql",
    "name": "cortex_search",
    "collapsed": false
   },
   "outputs": [],
   "source": "CREATE OR REPLACE CORTEX SEARCH SERVICE movie_recommender\n  ON OVERVIEW\n  ATTRIBUTES ORIGINAL_LANGUAGE\n  WAREHOUSE = COMPUTE_WH\n  TARGET_LAG = '1 day'\n  AS (\n    SELECT\n        TITLE,\n        OVERVIEW,\n        IMDB_ID,\n        ORIGINAL_LANGUAGE,\n        WEIGHTED_RATE\n    FROM MOVIES_PROCESSED\n);",
   "execution_count": null
  },
  {
   "cell_type": "code",
   "id": "91a7b4e6-2d0d-4c42-b95f-53c809ee0b22",
   "metadata": {
    "language": "python",
    "name": "use_cortex_search",
    "collapsed": false
   },
   "outputs": [],
   "source": "from snowflake.core import Root\n\nroot = Root(session)\n\nmovie_recommender_service = (root\n  .databases[\"MOVIES_DB\"]\n  .schemas[\"PUBLIC\"]\n  .cortex_search_services[\"movie_recommender\"]\n)\n\nresp = movie_recommender_service.search(\n  query=\"I realy liked Being John Malkovich What other movies should I watch?\",\n  columns=[\"TITLE\", \"OVERVIEW\", \"IMDB_ID\"],\n  filter={\"@eq\": {\"ORIGINAL_LANGUAGE\": \"en\"} },\n  limit=3\n)\nprint(resp.to_json())",
   "execution_count": null
  },
  {
   "cell_type": "code",
   "id": "3532b4df-ddff-4b04-99ba-e2c2215c2d24",
   "metadata": {
    "language": "python",
    "name": "cell4",
    "collapsed": false
   },
   "outputs": [],
   "source": "resp = movie_recommender_service.search(\n  query=\"I realy liked Pulp Fiction. What other movies should I watch.\",\n  columns=[\"TITLE\"],\n  filter={\"@eq\": {\"ORIGINAL_LANGUAGE\": \"ro\"} },\n  limit=3\n)\nprint(resp.to_json())",
   "execution_count": null
  }
 ]
}